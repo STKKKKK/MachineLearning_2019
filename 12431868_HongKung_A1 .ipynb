{
 "cells": [
  {
   "cell_type": "markdown",
   "metadata": {},
   "source": [
    "# Review Report on \"Eigenfaces vs. Fisherfaces: Recognition Using Class Specific Linear Projection\""
   ]
  },
  {
   "cell_type": "markdown",
   "metadata": {},
   "source": [
    "## Content"
   ]
  },
  {
   "cell_type": "markdown",
   "metadata": {},
   "source": [
    "The article is about face recognition algorithm and different methods. Initially, recent face recognition research found that some regions of specularities, shadow and facial expression may leads to variability from image to image which deviates significantly from the linear subspace. In other words, this situation is less reliable for recognition. \n",
    "\n",
    "Therefore, researchers need to found a new face recognition approach that is less sensitive to large variation in lighting direction and facial expression. The idea of linear projection of the faces is to transform from the high-dimensional image space to a lower dimensional feature space, which can be used in this case. A theorem has been proved stating dimension reduction is more proper. 4 different methods can be considered by Giving the problem of identify a set image.\n",
    "\n",
    "The first represent method is Correlation. In the learning set, an image in the test set is classified by assigning to its label of the closest point. In this case distances will be measured in image space.\n",
    "The second represent method is Eigenfaces, principle components analysis (PCA) is used in this case. An algorithm of this technique has been proposed: under the define of total scatter matrix S, the projection is to maximize the determinant of S of projected samples. \n",
    "The third represent method is Linear Subspace. Different from the previous, Linear Subspace algorithm exploits the observation that for a Lambertian surface without shadowing, the images of particular face lie in 3D linear subspace. Further more, this algorithm can achieve accurate recognition under shadow free, lighting, Lambertian reflectance model surface condition. \n",
    "The last represent method is Fisherface, a class specific algorithm: Fisher’s Linear Discriminant (FLD) is used. This may combines some properties of PCA and LDA(linear discriminant analysis)and may have better recognition rates than both.\n",
    "\n",
    "After that, in order to recognize how these methods perform, three experiments will be made. The first experiment is about variation in lighting, which aimed to prove the hypothesis under variable illumination: if a algorithm exploit that images of a Lambertian surface lie in a linear subspace. this algorithm will perform much better. The second experiment extends more than the first experiment : variation in facial expression, eyewear and lighting. Observation shows the fact that methods except Fisherface all have its limitation, for example, the images no longer lie in the linear subspace due to variation in facial expression. The last experiment is about glasses recognition, which also shows that FLD behave better than others include PCA. \n"
   ]
  },
  {
   "cell_type": "markdown",
   "metadata": {},
   "source": [
    "## Innovation"
   ]
  },
  {
   "cell_type": "markdown",
   "metadata": {},
   "source": [
    "The background at the time of the work is that researcher understood the problem as the former dimension reduction methods all have its limitation. After several experiments, they found out that the Fisherface method appears to be the best under more complex cases, which this method uses both PCA and LDA algorithm but obtain more usability at the same time.\n",
    "\n",
    "To be specific, PCA algorithm aimed to solve eigenvalues and eigenvectors in the matrix, which is also used in the Eigenface method. LDA algorithm aimed to find a vector in linear space according to the FLD criterion. Eigenface method has many limitations, which can be easily affected by the factors such as illumination conditions. Fisherface method, in this case, LDA helped to extract a set of eigenvectors, which aimed to marked different faces in different way instead of changing facial expression, lighting direction and illumination condition. In other words, we can point out that Fisherface method is less sensitive to these changing factors. And this may significantly reduce the error rate of face recognition. \n",
    "\n",
    "Another creative idea is that FLD focused on class identify. Researchers recognize that PCA does not pay enough attention to structures between different classes among the whole original data. However, FLD can directly carries out discriminant analysis among different classes, in order to identify the projection direction which could help samples within same class close to each other, and the samples within different class separate significantly. This function is mainly supported by much deeper analysis of potential classification structure information in original image, which is a basic usage of LDA. In addition, PCA can helped extract main feature without certain original value processing. In this case, Fisherface method can be considered as a advanced combination of LDA and PCA. \n"
   ]
  },
  {
   "cell_type": "markdown",
   "metadata": {},
   "source": [
    "## Technical quality"
   ]
  },
  {
   "cell_type": "markdown",
   "metadata": {},
   "source": [
    "The technical development is of high quality. The authors supported their theory using different methods/algorithms explanation and experiment results.\n",
    "\n",
    "In part 2, the paper represents four different methods in order to explain the main idea, algorithm used and difference between them. These methods put in order from simple to advanced. And each method is compared with the former one, showing the enough evidence that how the later method behave better under a more complex condition.\n",
    "\n",
    "In part 3, the paper shows the results of three experiments which are also arranged from the basic to advanced, which meet the similar logic of part 2. In addition, the arrangement can be also considered as from less to more superiority Fisherface method compared to others (in section 3 glasses recognition experiment, method(s) other than Fisherface has a very high error rate). This make the paper structure more easy to understand. \n",
    "Further more, the experiments are well designed in terms of subset. Moreover, the result data very is clear and detailed. In order to show only one group of data, some times different representation forms including table and graph are used at the same time, this means the result data is readable and convictive.\n"
   ]
  },
  {
   "cell_type": "markdown",
   "metadata": {},
   "source": [
    "## Application and X-factor"
   ]
  },
  {
   "cell_type": "markdown",
   "metadata": {},
   "source": [
    "I find the proposal in the paper promising. Also the application domain of face recognition is very appropriate for the proposed technique which is Fisherface method. Other application domain in image processing and pattern recognition field may also used or influenced by this technique. \n",
    "\n",
    "In my opinion, it is possible to extend the research project to face recognition under more extreme cases, the expression like wild laugh or raging may require more advanced algorithm to analysis. The possible algorithm may based on PLA or using a different dimension reduction method. \n",
    "\n",
    "Due to the clear algorithm explanation, experiment demonstration and the high logicality structure of whole paper, the work describe in the paper could spark a very good discussion in class. Personally, as a new learner of machine learning and data mining field, the experiment design in part 3 attracts me a lot. The idea of making subsets under several kinds of different condition and reconstruct them gives me a flexible way of thinking data science. \n"
   ]
  },
  {
   "cell_type": "markdown",
   "metadata": {},
   "source": [
    "## Presentation"
   ]
  },
  {
   "cell_type": "markdown",
   "metadata": {},
   "source": [
    "The overall strucutre is clear. I found reading is easy. While the paper is explaining different method, each method is compared with the former one. For example, in section 3, it start with ‘Both correlation and the Eigenface method are expected to suffer under variation in lighting direction.’ which make the paper more readable and logically very clear to the subsequent Linear Subspace method explanation.\n",
    "In addtion, the relation between PCA and LDA, and how they both affect Fisherface method is well performed, which explain the theory in a clear and easier way. \n",
    "Further more, multiple representation forms which point to the same result data set make the data more readable, which may also increase the efficiency of data skim reading.\n"
   ]
  },
  {
   "cell_type": "markdown",
   "metadata": {},
   "source": [
    "## References\n",
    "\n",
    "[BEL97][1]: N. Belhumeur, P. Hespanha, J. Kriegman, \"Eigenfaces vs. Fisherfaces: Recognistion Using Class Specific Linear Projection,\" Proc. IEEE TRANSACTIONS ON PATTERN ANALYSIS AND MACHINE INTELLIGENCE, Vol. 19, No. 7, July 1997\n",
    "\n",
    "[1]:https://google.com"
   ]
  }
 ],
 "metadata": {
  "kernelspec": {
   "display_name": "Python 3",
   "language": "python",
   "name": "python3"
  },
  "language_info": {
   "codemirror_mode": {
    "name": "ipython",
    "version": 3
   },
   "file_extension": ".py",
   "mimetype": "text/x-python",
   "name": "python",
   "nbconvert_exporter": "python",
   "pygments_lexer": "ipython3",
   "version": "3.7.3"
  },
  "toc": {
   "base_numbering": 1,
   "nav_menu": {},
   "number_sections": true,
   "sideBar": true,
   "skip_h1_title": false,
   "title_cell": "Table of Contents",
   "title_sidebar": "Contents",
   "toc_cell": false,
   "toc_position": {},
   "toc_section_display": true,
   "toc_window_display": false
  }
 },
 "nbformat": 4,
 "nbformat_minor": 2
}
